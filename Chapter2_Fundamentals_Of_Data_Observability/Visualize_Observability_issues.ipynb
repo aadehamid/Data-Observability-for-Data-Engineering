{
 "cells": [
  {
   "attachments": {},
   "cell_type": "markdown",
   "id": "a1b617a1",
   "metadata": {},
   "source": [
    "# Visualize Data Issues\n",
    "\n",
    "This notebook provides a visualization of common data quality issues that may arise within an application, highlighting the importance of robust data validation and cleaning processes."
   ]
  },
  {
   "attachments": {},
   "cell_type": "markdown",
   "id": "bed0168f",
   "metadata": {},
   "source": [
    "This notebook is designed to illustrate how data quality issues can manifest in an application. By visualizing these issues, we aim to gain a better understanding of their nature and impact."
   ]
  },
  {
   "attachments": {},
   "cell_type": "markdown",
   "id": "99deb5e8",
   "metadata": {},
   "source": [
    "## Libraries Import\n",
    "\n",
    "This cell is responsible for importing the necessary libraries required for our example. Ensuring that all the required libraries are loaded is essential for the analyses that will follow."
   ]
  },
  {
   "cell_type": "code",
   "execution_count": 1,
   "id": "69da1ad4",
   "metadata": {},
   "outputs": [],
   "source": [
    "import pandas as pd\n",
    "import matplotlib.pyplot as plt\n",
    "import sqlite3"
   ]
  },
  {
   "attachments": {},
   "cell_type": "markdown",
   "id": "fc92d471",
   "metadata": {},
   "source": [
    "## January Data Analysis\n",
    "\n",
    "In January, we encountered a timeliness issue with our data, which could also be interpreted as a completeness issue. Let's begin by loading the dataset to investigate this matter further.\n",
    "\n",
    "- **Timeliness Issue**: This refers to the scenario where data is not available when expected or required.\n",
    "- **Completeness Issue**: This pertains to instances where data is missing or incomplete."
   ]
  },
  {
   "cell_type": "code",
   "execution_count": 2,
   "id": "7946217a",
   "metadata": {},
   "outputs": [
    {
     "data": {
      "text/html": [
       "<div>\n",
       "<style scoped>\n",
       "    .dataframe tbody tr th:only-of-type {\n",
       "        vertical-align: middle;\n",
       "    }\n",
       "\n",
       "    .dataframe tbody tr th {\n",
       "        vertical-align: top;\n",
       "    }\n",
       "\n",
       "    .dataframe thead th {\n",
       "        text-align: right;\n",
       "    }\n",
       "</style>\n",
       "<table border=\"1\" class=\"dataframe\">\n",
       "  <thead>\n",
       "    <tr style=\"text-align: right;\">\n",
       "      <th></th>\n",
       "      <th>date</th>\n",
       "      <th>order_id</th>\n",
       "      <th>email</th>\n",
       "      <th>page_visited</th>\n",
       "      <th>duration</th>\n",
       "      <th>total_basket</th>\n",
       "      <th>has_confirmed</th>\n",
       "    </tr>\n",
       "  </thead>\n",
       "  <tbody>\n",
       "    <tr>\n",
       "      <th>0</th>\n",
       "      <td>2021-01-01</td>\n",
       "      <td>1aacfa9c-770d-4d90-9763-6551c8d89f55</td>\n",
       "      <td>baslie4t@bravesites.com</td>\n",
       "      <td>NaN</td>\n",
       "      <td>700.82</td>\n",
       "      <td>299.10</td>\n",
       "      <td>1</td>\n",
       "    </tr>\n",
       "    <tr>\n",
       "      <th>1</th>\n",
       "      <td>2021-01-01</td>\n",
       "      <td>5d0f80cf-2a32-4d1a-8bc8-e608822e95d4</td>\n",
       "      <td>mhextfz@nba.com</td>\n",
       "      <td>12.0</td>\n",
       "      <td>550.71</td>\n",
       "      <td>617.24</td>\n",
       "      <td>1</td>\n",
       "    </tr>\n",
       "    <tr>\n",
       "      <th>2</th>\n",
       "      <td>2021-01-01</td>\n",
       "      <td>8d2b7e99-dcd9-4883-bf42-061035735a24</td>\n",
       "      <td>pgeorgeonax@umich.edu</td>\n",
       "      <td>7.0</td>\n",
       "      <td>195.28</td>\n",
       "      <td>558.07</td>\n",
       "      <td>1</td>\n",
       "    </tr>\n",
       "    <tr>\n",
       "      <th>3</th>\n",
       "      <td>2021-01-01</td>\n",
       "      <td>2f518f9c-39e2-4d57-8e96-1409f3619e53</td>\n",
       "      <td>sstannas7d@mtv.com</td>\n",
       "      <td>13.0</td>\n",
       "      <td>353.41</td>\n",
       "      <td>48.65</td>\n",
       "      <td>1</td>\n",
       "    </tr>\n",
       "    <tr>\n",
       "      <th>4</th>\n",
       "      <td>2021-01-01</td>\n",
       "      <td>cd24bd4c-4d46-46c8-8259-c31ccfa3b3fa</td>\n",
       "      <td>wprestney1t@google.com.br</td>\n",
       "      <td>11.0</td>\n",
       "      <td>92.82</td>\n",
       "      <td>289.82</td>\n",
       "      <td>1</td>\n",
       "    </tr>\n",
       "  </tbody>\n",
       "</table>\n",
       "</div>"
      ],
      "text/plain": [
       "        date                              order_id                      email  \\\n",
       "0 2021-01-01  1aacfa9c-770d-4d90-9763-6551c8d89f55    baslie4t@bravesites.com   \n",
       "1 2021-01-01  5d0f80cf-2a32-4d1a-8bc8-e608822e95d4            mhextfz@nba.com   \n",
       "2 2021-01-01  8d2b7e99-dcd9-4883-bf42-061035735a24      pgeorgeonax@umich.edu   \n",
       "3 2021-01-01  2f518f9c-39e2-4d57-8e96-1409f3619e53         sstannas7d@mtv.com   \n",
       "4 2021-01-01  cd24bd4c-4d46-46c8-8259-c31ccfa3b3fa  wprestney1t@google.com.br   \n",
       "\n",
       "   page_visited  duration  total_basket  has_confirmed  \n",
       "0           NaN    700.82        299.10              1  \n",
       "1          12.0    550.71        617.24              1  \n",
       "2           7.0    195.28        558.07              1  \n",
       "3          13.0    353.41         48.65              1  \n",
       "4          11.0     92.82        289.82              1  "
      ]
     },
     "execution_count": 2,
     "metadata": {},
     "output_type": "execute_result"
    }
   ],
   "source": [
    "# filepath = \"/teamspace/studios/this_studio/Data-Observability-for-Data-Engineering/data/jan/orders.csv\"\n",
    "df_jan = pd.read_csv(\"~/Data-Observability-for-Data-Engineering/data/jan/orders.csv\",parse_dates=['date'])\n",
    "df_jan.head()"
   ]
  },
  {
   "attachments": {},
   "cell_type": "markdown",
   "id": "61d9cb23",
   "metadata": {},
   "source": [
    "At first glance, the head of the dataset does not exhibit any peculiarities. Nevertheless, we have received reports of an issue concerning the number of pages visited. To delve deeper into this matter, we'll visualize the average number of pages visited on a daily basis."
   ]
  },
  {
   "cell_type": "code",
   "execution_count": 3,
   "id": "d729cb44",
   "metadata": {},
   "outputs": [
    {
     "data": {
      "image/png": "[encoded data removed]",
      "text/plain": [
       "<Figure size 640x480 with 1 Axes>"
      ]
     },
     "metadata": {},
     "output_type": "display_data"
    }
   ],
   "source": [
    "mean_duration = df_jan.groupby('date')['page_visited'].mean()\n",
    "\n",
    "plt.bar(x=mean_duration.index, height=mean_duration.values)\n",
    "plt.xticks(rotation=45, ha=\"right\")\n",
    "\n",
    "plt.xlabel('Date')  \n",
    "plt.ylabel('Average Page Visits') \n",
    "\n",
    "plt.title('Daily Average Page Visits in January')\n",
    "plt.show()"
   ]
  },
  {
   "attachments": {},
   "cell_type": "markdown",
   "id": "4c540fb1",
   "metadata": {},
   "source": [
    "The visualization reveals a gap in the data, indicating missing averages for certain days. A closer examination of each date confirms this observation, with data absent from the 17th to the 23rd of January."
   ]
  },
  {
   "cell_type": "code",
   "execution_count": 6,
   "id": "e7e7d92d",
   "metadata": {},
   "outputs": [
    {
     "data": {
      "text/plain": [
       "<DatetimeArray>\n",
       "['2021-01-01 00:00:00', '2021-01-02 00:00:00', '2021-01-03 00:00:00',\n",
       " '2021-01-04 00:00:00', '2021-01-05 00:00:00', '2021-01-06 00:00:00',\n",
       " '2021-01-07 00:00:00', '2021-01-08 00:00:00', '2021-01-09 00:00:00',\n",
       " '2021-01-10 00:00:00', '2021-01-11 00:00:00', '2021-01-12 00:00:00',\n",
       " '2021-01-13 00:00:00', '2021-01-14 00:00:00', '2021-01-15 00:00:00',\n",
       " '2021-01-16 00:00:00', '2021-01-17 00:00:00', '2021-01-23 00:00:00',\n",
       " '2021-01-24 00:00:00', '2021-01-25 00:00:00', '2021-01-26 00:00:00',\n",
       " '2021-01-27 00:00:00', '2021-01-28 00:00:00', '2021-01-29 00:00:00',\n",
       " '2021-01-30 00:00:00', '2021-01-31 00:00:00']\n",
       "Length: 26, dtype: datetime64[ns]"
      ]
     },
     "execution_count": 6,
     "metadata": {},
     "output_type": "execute_result"
    }
   ],
   "source": [
    "df_jan['date'].unique()"
   ]
  },
  {
   "attachments": {},
   "cell_type": "markdown",
   "id": "cbbd1cee",
   "metadata": {},
   "source": [
    "The subsequent step involves appending the dataset to the SQL `datalake.orders` table to ensure that our data lake is up-to-date with the latest information."
   ]
  },
  {
   "cell_type": "code",
   "execution_count": 7,
   "id": "efa0e138",
   "metadata": {},
   "outputs": [
    {
     "data": {
      "text/plain": [
       "359"
      ]
     },
     "execution_count": 7,
     "metadata": {},
     "output_type": "execute_result"
    }
   ],
   "source": [
    "con=sqlite3.connect('datalake')\n",
    "df_jan.to_sql('orders',con,if_exists='append')"
   ]
  },
  {
   "attachments": {},
   "cell_type": "markdown",
   "id": "dbfb5f5c",
   "metadata": {},
   "source": [
    "## February Data Issues\n",
    "\n",
    "In February, we encountered a significant issue: writing the dataset to the `datalake.orders` table was infeasible due to a breakdown in the application."
   ]
  },
  {
   "cell_type": "code",
   "execution_count": null,
   "id": "acc8812f",
   "metadata": {},
   "outputs": [],
   "source": [
    "df_feb = pd.read_csv(\"~/Data-Observability-for-Data-Engineering/data/feb/orders.csv\",parse_dates=['date'])"
   ]
  },
  {
   "attachments": {},
   "cell_type": "markdown",
   "id": "700b97ff",
   "metadata": {},
   "source": [
    "An inspection of the error reveals a completeness issue, this time attributable to an incomplete schema. Specifically, the field `email_customer` was added. In fact, the field `email` was renamed to `email_customer` in this dataset, which likely caused the problem."
   ]
  },
  {
   "cell_type": "code",
   "execution_count": null,
   "id": "3dd82dbb",
   "metadata": {},
   "outputs": [],
   "source": [
    "df_feb.to_sql('orders',con,if_exists='append')"
   ]
  },
  {
   "attachments": {},
   "cell_type": "markdown",
   "id": "c6789276",
   "metadata": {},
   "source": [
    "## March Data Anomalies\n",
    "\n",
    "March brought forth another completeness issue. Due to complications with the cookies provider, there was a noticeable increase in the number of `NaN` values for the `page_visited` column, rising from approximately 5% to 25%."
   ]
  },
  {
   "cell_type": "code",
   "execution_count": null,
   "id": "90fef183",
   "metadata": {},
   "outputs": [],
   "source": [
    "df_mar = pd.read_csv(\"~/Data-Observability-for-Data-Engineering/data/mar/orders.csv\",parse_dates=['date'])"
   ]
  },
  {
   "cell_type": "code",
   "execution_count": null,
   "id": "34a7e4dd",
   "metadata": {},
   "outputs": [],
   "source": [
    "import matplotlib.pyplot as plt\n",
    "\n",
    "na_jan = sum(df_jan[\"page_visited\"].isna())/df_jan.shape[1]\n",
    "na_feb = sum(df_feb[\"page_visited\"].isna())/df_feb.shape[1]\n",
    "na_mar = sum(df_mar[\"page_visited\"].isna())/df_mar.shape[1]\n",
    "\n",
    "plt.bar(x=['jan', 'feb', 'mar'], height=[na_jan, na_feb, na_mar])\n",
    "\n",
    "\n",
    "plt.xlabel('Month')  \n",
    "plt.ylabel('Proportion of Missing Page Visits') \n",
    "\n",
    "\n",
    "plt.title('Proportion of Missing Page Visits per Month')\n",
    "\n",
    "plt.show()"
   ]
  },
  {
   "attachments": {},
   "cell_type": "markdown",
   "id": "d584b4e9",
   "metadata": {},
   "source": [
    "## Summary\n",
    "\n",
    "Throughout this notebook, we have explored various data issues. Some caused immediate disruptions in the application, while others were more insidious. Recognizing and addressing these issues is crucial for maintaining data integrity and ensuring smooth application functionality."
   ]
  }
 ],
 "metadata": {
  "kernelspec": {
   "display_name": "Python 3 (ipykernel)",
   "language": "python",
   "name": "python3"
  },
  "language_info": {
   "codemirror_mode": {
    "name": "ipython",
    "version": 3
   },
   "file_extension": ".py",
   "mimetype": "text/x-python",
   "name": "python",
   "nbconvert_exporter": "python",
   "pygments_lexer": "ipython3",
   "version": "3.10.10"
  }
 },
 "nbformat": 4,
 "nbformat_minor": 5
}
